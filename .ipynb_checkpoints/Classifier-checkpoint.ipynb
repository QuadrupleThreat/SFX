{
 "cells": [
  {
   "cell_type": "code",
   "execution_count": 2,
   "id": "2adf21d4-b2da-4e9b-bd77-b00fc4af864f",
   "metadata": {},
   "outputs": [],
   "source": [
    "import pandas as pd\n",
    "import numpy as np\n",
    "import matplotlib.pyplot as plt\n",
    "from sklearn import preprocessing\n",
    "from sklearn.linear_model import LogisticRegression\n",
    "from sklearn.model_selection import train_test_split"
   ]
  },
  {
   "cell_type": "code",
   "execution_count": 15,
   "id": "c291911a-bd10-4bdc-a05d-43402d32faf7",
   "metadata": {},
   "outputs": [],
   "source": [
    "columns = [\"wrist_x\", \"wrist_y\", \"thumb_cmc_x\", \"thumb_cmc_y\", \"thumb_mcp_x\", \"thumb_mcp_y\", \"thumb_ip_x\", \"thumb_ip_y\", \n",
    "           \"thumb_tip_x\", \"thumb_tip_y\", \"index_finger_mcp_x\", \"index_finger_mcp_y\", \"index_finger_pip_x\", \"index_finger_pip_y\",\n",
    "           \"index_finger_dip_x\", \"index_finger_dip_y\", \"index_finger_tip_x\", \"index_finger_tip_y\", \"middle_finger_mcp_x\", \"middle_finger_mcp_y\",\n",
    "           \"middle_finger_pip_x\", \"middle_finger_pip_y\", \"middle_finger_dip_x\", \"middle_finger_dip_y\", \"middle_finger_tip_x\", \"middle_finger_tip_y\",\n",
    "           \"ring_finger_mcp_x\", \"ring_finger_mcp_y\", \"ring_finger_pip_x\", \"ring_finger_pip_y\", \"ring_finger_dip_x\", \"ring_finger_dip_y\",\n",
    "           \"ring_finger_tip_x\", \"ring_finger_tip_y\", \"pinky_mcp_x\", \"pinky_mcp_y\", \"pinky_pip_x\", \"pinky_pip_y\", \"pinky_dip_x\", \"pinky_dip_y\",\n",
    "           \"pinky_tip_x\", \"pinky_tip_y\"]\n",
    "\n",
    "actual_columns = []\n",
    "for loc in [\"right_\", \"left_\"]:\n",
    "    for column in columns:\n",
    "        new_column = loc + column\n",
    "        actual_columns.append(new_column)"
   ]
  },
  {
   "cell_type": "code",
   "execution_count": 16,
   "id": "d605b116-564a-471a-aedd-37d79b36b99c",
   "metadata": {},
   "outputs": [],
   "source": [
    "hello_x = pd.read_csv(\"hello.csv\")\n",
    "welcome_x = pd.read_csv(\"welcome.csv\")"
   ]
  },
  {
   "cell_type": "code",
   "execution_count": 71,
   "id": "5ac2f31e-4ab3-441b-b03a-796ca3e0de9d",
   "metadata": {},
   "outputs": [],
   "source": [
    "hello_y = pd.Series([0 for _ in range(hello_x.shape[0])])\n",
    "welcome_y = pd.Series([1 for _ in range(welcome_x.shape[0])])"
   ]
  },
  {
   "cell_type": "code",
   "execution_count": 72,
   "id": "f35d93f0-f770-4092-86ad-bd44cffb2309",
   "metadata": {},
   "outputs": [],
   "source": [
    "X = pd.concat([hello_x, welcome_x], axis=0, ignore_index=True)\n",
    "Y = pd.concat([hello_y, welcome_y], axis=0, ignore_index=True)"
   ]
  },
  {
   "cell_type": "code",
   "execution_count": 73,
   "id": "ccc65d65-80d9-4e21-82e1-38f725a9af55",
   "metadata": {},
   "outputs": [],
   "source": [
    "X = X.to_numpy()\n",
    "Y = Y.to_numpy()"
   ]
  },
  {
   "cell_type": "code",
   "execution_count": 74,
   "id": "90f815da-288a-4990-b5a1-76e75e73c57d",
   "metadata": {},
   "outputs": [
    {
     "data": {
      "text/plain": [
       "array([0, 0, 0, 0, 0, 0, 0, 0, 0, 0, 0, 0, 0, 0, 0, 0, 0, 0, 0, 0, 0, 0,\n",
       "       0, 0, 0, 0, 0, 0, 0, 0, 0, 0, 0, 0, 0, 0, 0, 0, 0, 0, 0, 0, 0, 0,\n",
       "       0, 0, 0, 0, 0, 0, 1, 1, 1, 1, 1, 1, 1, 1, 1, 1, 1, 1, 1, 1, 1, 1,\n",
       "       1, 1, 1, 1, 1, 1, 1, 1, 1, 1, 1, 1, 1, 1, 1, 1, 1, 1, 1, 1, 1, 1,\n",
       "       1, 1, 1, 1, 1, 1, 1, 1, 1, 1, 1, 1, 1, 1, 1, 1, 1, 1, 1, 1, 1, 1,\n",
       "       1, 1, 1, 1, 1, 1, 1, 1, 1, 1, 1, 1, 1, 1, 1, 1, 1, 1, 1, 1, 1, 1,\n",
       "       1, 1])"
      ]
     },
     "execution_count": 74,
     "metadata": {},
     "output_type": "execute_result"
    }
   ],
   "source": [
    "scaler = preprocessing.StandardScaler().fit(X)"
   ]
  },
  {
   "cell_type": "code",
   "execution_count": 35,
   "id": "4156a627-43eb-4461-8e06-3c7b2acda524",
   "metadata": {},
   "outputs": [
    {
     "data": {
      "text/plain": [
       "0     409\n",
       "1     409\n",
       "2     406\n",
       "3     412\n",
       "4     426\n",
       "5     440\n",
       "6     442\n",
       "7     443\n",
       "8     440\n",
       "9     433\n",
       "10    425\n",
       "11    417\n",
       "12    412\n",
       "13    413\n",
       "14    414\n",
       "15    414\n",
       "16    412\n",
       "17    411\n",
       "18    413\n",
       "19    408\n",
       "20    314\n",
       "21      0\n",
       "22      0\n",
       "23      0\n",
       "24      0\n",
       "25      0\n",
       "26      0\n",
       "27      0\n",
       "28      0\n",
       "29      0\n",
       "30      0\n",
       "31      0\n",
       "32      0\n",
       "33      0\n",
       "34      0\n",
       "35      0\n",
       "36      0\n",
       "37      0\n",
       "38      0\n",
       "39      0\n",
       "40      0\n",
       "41      0\n",
       "42      0\n",
       "43      0\n",
       "44      0\n",
       "45      0\n",
       "46      0\n",
       "47      0\n",
       "48      0\n",
       "49      0\n",
       "Name: right_thumb_mcp_x, dtype: int64"
      ]
     },
     "execution_count": 35,
     "metadata": {},
     "output_type": "execute_result"
    }
   ],
   "source": []
  },
  {
   "cell_type": "code",
   "execution_count": null,
   "id": "c285ad44-074c-47eb-86f7-749db6d7647c",
   "metadata": {},
   "outputs": [],
   "source": []
  }
 ],
 "metadata": {
  "kernelspec": {
   "display_name": "Python 3",
   "language": "python",
   "name": "python3"
  },
  "language_info": {
   "codemirror_mode": {
    "name": "ipython",
    "version": 3
   },
   "file_extension": ".py",
   "mimetype": "text/x-python",
   "name": "python",
   "nbconvert_exporter": "python",
   "pygments_lexer": "ipython3",
   "version": "3.8.8"
  }
 },
 "nbformat": 4,
 "nbformat_minor": 5
}
