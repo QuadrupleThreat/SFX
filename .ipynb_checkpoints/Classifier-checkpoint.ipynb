{
 "cells": [
  {
   "cell_type": "code",
   "execution_count": 602,
   "id": "2adf21d4-b2da-4e9b-bd77-b00fc4af864f",
   "metadata": {},
   "outputs": [],
   "source": [
    "import pickle\n",
    "import pandas as pd\n",
    "import numpy as np\n",
    "import matplotlib.pyplot as plt\n",
    "from sklearn.svm import SVC\n",
    "from sklearn import preprocessing\n",
    "from sklearn.tree import DecisionTreeClassifier\n",
    "from sklearn.metrics import accuracy_score\n",
    "from sklearn.linear_model import LogisticRegression\n",
    "from sklearn.model_selection import train_test_split"
   ]
  },
  {
   "cell_type": "code",
   "execution_count": 603,
   "id": "c291911a-bd10-4bdc-a05d-43402d32faf7",
   "metadata": {},
   "outputs": [],
   "source": [
    "columns = [\"wrist_x\", \"wrist_y\", \"thumb_cmc_x\", \"thumb_cmc_y\", \"thumb_mcp_x\", \"thumb_mcp_y\", \"thumb_ip_x\", \"thumb_ip_y\", \n",
    "           \"thumb_tip_x\", \"thumb_tip_y\", \"index_finger_mcp_x\", \"index_finger_mcp_y\", \"index_finger_pip_x\", \"index_finger_pip_y\",\n",
    "           \"index_finger_dip_x\", \"index_finger_dip_y\", \"index_finger_tip_x\", \"index_finger_tip_y\", \"middle_finger_mcp_x\", \"middle_finger_mcp_y\",\n",
    "           \"middle_finger_pip_x\", \"middle_finger_pip_y\", \"middle_finger_dip_x\", \"middle_finger_dip_y\", \"middle_finger_tip_x\", \"middle_finger_tip_y\",\n",
    "           \"ring_finger_mcp_x\", \"ring_finger_mcp_y\", \"ring_finger_pip_x\", \"ring_finger_pip_y\", \"ring_finger_dip_x\", \"ring_finger_dip_y\",\n",
    "           \"ring_finger_tip_x\", \"ring_finger_tip_y\", \"pinky_mcp_x\", \"pinky_mcp_y\", \"pinky_pip_x\", \"pinky_pip_y\", \"pinky_dip_x\", \"pinky_dip_y\",\n",
    "           \"pinky_tip_x\", \"pinky_tip_y\"]\n",
    "\n",
    "actual_columns = []\n",
    "for loc in [\"right_\", \"left_\"]:\n",
    "    for column in columns:\n",
    "        new_column = loc + column\n",
    "        actual_columns.append(new_column)"
   ]
  },
  {
   "cell_type": "code",
   "execution_count": 604,
   "id": "d605b116-564a-471a-aedd-37d79b36b99c",
   "metadata": {},
   "outputs": [],
   "source": [
    "file_paths = [\"hello.csv\", \"meet.csv\", \"nice.csv\", \"everyone.csv\"]\n",
    "data_frames_x = [pd.read_csv(file_path).iloc[:50, :] for file_path in file_paths]"
   ]
  },
  {
   "cell_type": "code",
   "execution_count": 605,
   "id": "5ac2f31e-4ab3-441b-b03a-796ca3e0de9d",
   "metadata": {},
   "outputs": [],
   "source": [
    "data_series_y = [pd.Series([i for _ in range(data_frames_x[i].shape[0])]) for i in range(len(file_paths))]"
   ]
  },
  {
   "cell_type": "code",
   "execution_count": 606,
   "id": "aed02837-2101-4db0-bb07-d0c60f88eda1",
   "metadata": {},
   "outputs": [],
   "source": [
    "X = pd.concat(data_frames_x, axis=0, ignore_index=True)\n",
    "Y = pd.concat(data_series_y, axis=0, ignore_index=True)\n",
    "X = X.to_numpy()\n",
    "Y = Y.to_numpy()"
   ]
  },
  {
   "cell_type": "code",
   "execution_count": 607,
   "id": "c126fb11-da7f-4eef-98d3-0c0f20c1582f",
   "metadata": {},
   "outputs": [],
   "source": [
    "np.random.seed(0) # For reproducibility purposes\n",
    "\n",
    "# Shuffle the order of the training examples.\n",
    "indices = np.arange(X.shape[0])\n",
    "shuffled_indices = np.random.permutation(indices)"
   ]
  },
  {
   "cell_type": "code",
   "execution_count": 608,
   "id": "ac607d62-06a4-40a8-89db-08dc8103c0a5",
   "metadata": {},
   "outputs": [],
   "source": [
    "X = X[shuffled_indices]\n",
    "Y = Y[shuffled_indices]"
   ]
  },
  {
   "cell_type": "code",
   "execution_count": 609,
   "id": "15b856dd-224e-48aa-bdb0-713171be5330",
   "metadata": {},
   "outputs": [],
   "source": [
    "# scaler = preprocessing.MinMaxScaler()\n",
    "# scaled = scaler.fit_transform(X)\n",
    "scaled = X / 1000"
   ]
  },
  {
   "cell_type": "code",
   "execution_count": 610,
   "id": "906ca21b-f18f-433b-9d84-0b009c027c0b",
   "metadata": {},
   "outputs": [],
   "source": [
    "X_train, X_test, y_train, y_test = train_test_split(scaled, Y, test_size=0.2, random_state=0)"
   ]
  },
  {
   "cell_type": "code",
   "execution_count": 611,
   "id": "ccc65d65-80d9-4e21-82e1-38f725a9af55",
   "metadata": {},
   "outputs": [
    {
     "data": {
      "text/plain": [
       "(150, 126)"
      ]
     },
     "execution_count": 611,
     "metadata": {},
     "output_type": "execute_result"
    }
   ],
   "source": [
    "X.shape"
   ]
  },
  {
   "cell_type": "code",
   "execution_count": null,
   "id": "90f815da-288a-4990-b5a1-76e75e73c57d",
   "metadata": {},
   "outputs": [],
   "source": []
  },
  {
   "cell_type": "code",
   "execution_count": null,
   "id": "4156a627-43eb-4461-8e06-3c7b2acda524",
   "metadata": {},
   "outputs": [],
   "source": []
  },
  {
   "cell_type": "code",
   "execution_count": 612,
   "id": "c285ad44-074c-47eb-86f7-749db6d7647c",
   "metadata": {},
   "outputs": [
    {
     "data": {
      "text/plain": [
       "SVC(kernel='poly', probability=True)"
      ]
     },
     "execution_count": 612,
     "metadata": {},
     "output_type": "execute_result"
    }
   ],
   "source": [
    "logreg = SVC(kernel = 'poly', probability=True)\n",
    "logreg.fit(X_train, y_train)"
   ]
  },
  {
   "cell_type": "code",
   "execution_count": 613,
   "id": "03cbc1f2-4bd2-4e87-970b-9deb7c682ee8",
   "metadata": {},
   "outputs": [
    {
     "name": "stdout",
     "output_type": "stream",
     "text": [
      "Accuracy of logistic regression classifier on test set: 1.00\n"
     ]
    }
   ],
   "source": [
    "y_pred = logreg.predict(X_test)\n",
    "print('Accuracy of logistic regression classifier on test set: {:.2f}'.format(logreg.score(X_test, y_test)))"
   ]
  },
  {
   "cell_type": "code",
   "execution_count": 614,
   "id": "7e64141a-fb77-4ab5-ba77-140c8b971683",
   "metadata": {},
   "outputs": [
    {
     "data": {
      "text/plain": [
       "1.0"
      ]
     },
     "execution_count": 614,
     "metadata": {},
     "output_type": "execute_result"
    }
   ],
   "source": [
    "accuracy_score(y_test, y_pred)"
   ]
  },
  {
   "cell_type": "code",
   "execution_count": 615,
   "id": "74827c35-9c58-4e82-ad8c-bab676220785",
   "metadata": {},
   "outputs": [],
   "source": [
    "file_name = 'sign_language.sav'\n",
    "pickle.dump(logreg, open(file_name, 'wb'))"
   ]
  },
  {
   "cell_type": "code",
   "execution_count": 616,
   "id": "8e5b54ec-adef-47f3-bcf6-046e268cb0dd",
   "metadata": {},
   "outputs": [],
   "source": [
    "yp = logreg.predict_proba(X_test)"
   ]
  },
  {
   "cell_type": "code",
   "execution_count": 617,
   "id": "6617143e-2cba-4b4a-b266-513ceced9e8b",
   "metadata": {},
   "outputs": [
    {
     "data": {
      "text/plain": [
       "array([[0.02626854, 0.01216015, 0.96157131],\n",
       "       [0.02959591, 0.01236162, 0.95804247],\n",
       "       [0.03373035, 0.01587253, 0.95039712],\n",
       "       [0.9638836 , 0.01217996, 0.02393644],\n",
       "       [0.01079879, 0.96697316, 0.02222805],\n",
       "       [0.96394243, 0.01217848, 0.02387909],\n",
       "       [0.01149185, 0.01294376, 0.97556439],\n",
       "       [0.02558856, 0.01224747, 0.96216397],\n",
       "       [0.03520904, 0.01196051, 0.95283044],\n",
       "       [0.01130763, 0.96540657, 0.02328581],\n",
       "       [0.96382413, 0.01218107, 0.0239948 ],\n",
       "       [0.02879235, 0.01213596, 0.95907169],\n",
       "       [0.96364113, 0.01218587, 0.024173  ],\n",
       "       [0.04492623, 0.01558366, 0.93949011],\n",
       "       [0.01119373, 0.96574575, 0.02306052],\n",
       "       [0.01091196, 0.96671543, 0.02237261],\n",
       "       [0.96292898, 0.0122014 , 0.02486961],\n",
       "       [0.04522845, 0.01561588, 0.93915567],\n",
       "       [0.01082263, 0.96664166, 0.02253572],\n",
       "       [0.0112992 , 0.96542159, 0.02327921],\n",
       "       [0.04181619, 0.01177376, 0.94641004],\n",
       "       [0.01165253, 0.96431446, 0.024033  ],\n",
       "       [0.03650541, 0.01576383, 0.94773076],\n",
       "       [0.01122923, 0.96570776, 0.02306301],\n",
       "       [0.02334609, 0.01222981, 0.9644241 ],\n",
       "       [0.96377767, 0.01218247, 0.02403986],\n",
       "       [0.96359143, 0.01218718, 0.02422138],\n",
       "       [0.96171254, 0.01222694, 0.02606051],\n",
       "       [0.95679359, 0.01234635, 0.03086006],\n",
       "       [0.96409137, 0.01217509, 0.02373354]])"
      ]
     },
     "execution_count": 617,
     "metadata": {},
     "output_type": "execute_result"
    }
   ],
   "source": [
    "yp"
   ]
  },
  {
   "cell_type": "code",
   "execution_count": null,
   "id": "d5531eaa-39a0-4626-a76b-6097f0aba40c",
   "metadata": {},
   "outputs": [],
   "source": []
  }
 ],
 "metadata": {
  "kernelspec": {
   "display_name": "Python 3",
   "language": "python",
   "name": "python3"
  },
  "language_info": {
   "codemirror_mode": {
    "name": "ipython",
    "version": 3
   },
   "file_extension": ".py",
   "mimetype": "text/x-python",
   "name": "python",
   "nbconvert_exporter": "python",
   "pygments_lexer": "ipython3",
   "version": "3.8.8"
  }
 },
 "nbformat": 4,
 "nbformat_minor": 5
}
