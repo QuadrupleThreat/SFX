{
 "cells": [
  {
   "cell_type": "code",
   "execution_count": 634,
   "id": "2adf21d4-b2da-4e9b-bd77-b00fc4af864f",
   "metadata": {},
   "outputs": [],
   "source": [
    "import pickle\n",
    "import pandas as pd\n",
    "import numpy as np\n",
    "import matplotlib.pyplot as plt\n",
    "from sklearn.svm import SVC\n",
    "from sklearn import preprocessing\n",
    "from sklearn.tree import DecisionTreeClassifier\n",
    "from sklearn.metrics import accuracy_score\n",
    "from sklearn.linear_model import LogisticRegression\n",
    "from sklearn.model_selection import train_test_split"
   ]
  },
  {
   "cell_type": "code",
   "execution_count": 636,
   "id": "d605b116-564a-471a-aedd-37d79b36b99c",
   "metadata": {},
   "outputs": [],
   "source": [
    "file_paths = [\"hello.csv\", \"meet.csv\", \"nice.csv\", \"everyone.csv\"]\n",
    "data_frames_x = [pd.read_csv(file_path).iloc[:50, :] for file_path in file_paths]"
   ]
  },
  {
   "cell_type": "code",
   "execution_count": 637,
   "id": "5ac2f31e-4ab3-441b-b03a-796ca3e0de9d",
   "metadata": {},
   "outputs": [],
   "source": [
    "data_series_y = [pd.Series([i for _ in range(data_frames_x[i].shape[0])]) for i in range(len(file_paths))]"
   ]
  },
  {
   "cell_type": "code",
   "execution_count": 638,
   "id": "aed02837-2101-4db0-bb07-d0c60f88eda1",
   "metadata": {},
   "outputs": [],
   "source": [
    "X = pd.concat(data_frames_x, axis=0, ignore_index=True)\n",
    "Y = pd.concat(data_series_y, axis=0, ignore_index=True)\n",
    "X = X.to_numpy()\n",
    "Y = Y.to_numpy()"
   ]
  },
  {
   "cell_type": "code",
   "execution_count": 639,
   "id": "c126fb11-da7f-4eef-98d3-0c0f20c1582f",
   "metadata": {},
   "outputs": [],
   "source": [
    "np.random.seed(0) # For reproducibility purposes\n",
    "\n",
    "# Shuffle the order of the training examples.\n",
    "indices = np.arange(X.shape[0])\n",
    "shuffled_indices = np.random.permutation(indices)"
   ]
  },
  {
   "cell_type": "code",
   "execution_count": 640,
   "id": "ac607d62-06a4-40a8-89db-08dc8103c0a5",
   "metadata": {},
   "outputs": [],
   "source": [
    "X = X[shuffled_indices]\n",
    "Y = Y[shuffled_indices]"
   ]
  },
  {
   "cell_type": "code",
   "execution_count": 641,
   "id": "15b856dd-224e-48aa-bdb0-713171be5330",
   "metadata": {},
   "outputs": [],
   "source": [
    "# scaler = preprocessing.MinMaxScaler()\n",
    "# scaled = scaler.fit_transform(X)\n",
    "scaled = X / 1000"
   ]
  },
  {
   "cell_type": "code",
   "execution_count": 642,
   "id": "906ca21b-f18f-433b-9d84-0b009c027c0b",
   "metadata": {},
   "outputs": [],
   "source": [
    "X_train, X_test, y_train, y_test = train_test_split(scaled, Y, test_size=0.2, random_state=0)"
   ]
  },
  {
   "cell_type": "code",
   "execution_count": 643,
   "id": "ccc65d65-80d9-4e21-82e1-38f725a9af55",
   "metadata": {},
   "outputs": [
    {
     "data": {
      "text/plain": [
       "(200, 126)"
      ]
     },
     "execution_count": 643,
     "metadata": {},
     "output_type": "execute_result"
    }
   ],
   "source": [
    "X.shape"
   ]
  },
  {
   "cell_type": "code",
   "execution_count": null,
   "id": "90f815da-288a-4990-b5a1-76e75e73c57d",
   "metadata": {},
   "outputs": [],
   "source": []
  },
  {
   "cell_type": "code",
   "execution_count": null,
   "id": "4156a627-43eb-4461-8e06-3c7b2acda524",
   "metadata": {},
   "outputs": [],
   "source": []
  },
  {
   "cell_type": "code",
   "execution_count": 644,
   "id": "c285ad44-074c-47eb-86f7-749db6d7647c",
   "metadata": {},
   "outputs": [
    {
     "data": {
      "text/plain": [
       "SVC(kernel='poly', probability=True)"
      ]
     },
     "execution_count": 644,
     "metadata": {},
     "output_type": "execute_result"
    }
   ],
   "source": [
    "logreg = SVC(kernel = 'poly', probability=True)\n",
    "logreg.fit(X_train, y_train)"
   ]
  },
  {
   "cell_type": "code",
   "execution_count": 645,
   "id": "03cbc1f2-4bd2-4e87-970b-9deb7c682ee8",
   "metadata": {},
   "outputs": [
    {
     "name": "stdout",
     "output_type": "stream",
     "text": [
      "Accuracy of logistic regression classifier on test set: 1.00\n"
     ]
    }
   ],
   "source": [
    "y_pred = logreg.predict(X_test)\n",
    "print('Accuracy of logistic regression classifier on test set: {:.2f}'.format(logreg.score(X_test, y_test)))"
   ]
  },
  {
   "cell_type": "code",
   "execution_count": 646,
   "id": "7e64141a-fb77-4ab5-ba77-140c8b971683",
   "metadata": {},
   "outputs": [
    {
     "data": {
      "text/plain": [
       "1.0"
      ]
     },
     "execution_count": 646,
     "metadata": {},
     "output_type": "execute_result"
    }
   ],
   "source": [
    "accuracy_score(y_test, y_pred)"
   ]
  },
  {
   "cell_type": "code",
   "execution_count": 647,
   "id": "74827c35-9c58-4e82-ad8c-bab676220785",
   "metadata": {},
   "outputs": [],
   "source": [
    "file_name = 'sign_language.sav'\n",
    "pickle.dump(logreg, open(file_name, 'wb'))"
   ]
  },
  {
   "cell_type": "code",
   "execution_count": 648,
   "id": "8e5b54ec-adef-47f3-bcf6-046e268cb0dd",
   "metadata": {},
   "outputs": [],
   "source": [
    "yp = logreg.predict_proba(X_test)"
   ]
  },
  {
   "cell_type": "code",
   "execution_count": 649,
   "id": "6617143e-2cba-4b4a-b266-513ceced9e8b",
   "metadata": {},
   "outputs": [
    {
     "data": {
      "text/plain": [
       "array([[0.95021816, 0.01308114, 0.02595047, 0.01075023],\n",
       "       [0.94999313, 0.01308781, 0.02617387, 0.01074519],\n",
       "       [0.00815232, 0.95460981, 0.01240244, 0.02483543],\n",
       "       [0.00836507, 0.95522228, 0.01265667, 0.02375597],\n",
       "       [0.00803034, 0.95684952, 0.01213231, 0.02298784],\n",
       "       [0.00998977, 0.02793205, 0.01587775, 0.94620042],\n",
       "       [0.00955382, 0.02750807, 0.01505446, 0.94788365],\n",
       "       [0.02823919, 0.01019098, 0.9458891 , 0.01568073],\n",
       "       [0.00946933, 0.02626721, 0.01487807, 0.94938538],\n",
       "       [0.94970818, 0.01309703, 0.02645783, 0.01073696],\n",
       "       [0.00809258, 0.9573064 , 0.0121485 , 0.02245251],\n",
       "       [0.00821393, 0.95454729, 0.01235958, 0.0248792 ],\n",
       "       [0.01072527, 0.02113473, 0.01712259, 0.95101742],\n",
       "       [0.03200151, 0.01025657, 0.94229756, 0.01544435],\n",
       "       [0.00999472, 0.02774033, 0.01588072, 0.94638423],\n",
       "       [0.02881183, 0.01126096, 0.95234902, 0.00757819],\n",
       "       [0.0058258 , 0.01231187, 0.97360549, 0.00825683],\n",
       "       [0.94904748, 0.01311738, 0.02712143, 0.01071371],\n",
       "       [0.94774944, 0.01315624, 0.02842275, 0.01067157],\n",
       "       [0.02102894, 0.01022185, 0.95299934, 0.01574986],\n",
       "       [0.00996377, 0.02524   , 0.01574272, 0.94905351],\n",
       "       [0.94244738, 0.01331489, 0.0336701 , 0.01056763],\n",
       "       [0.00814743, 0.95405647, 0.01239838, 0.02539772],\n",
       "       [0.95006691, 0.01308571, 0.02610103, 0.01074635],\n",
       "       [0.0246375 , 0.01027152, 0.94967616, 0.01541481],\n",
       "       [0.00775731, 0.9568902 , 0.01172897, 0.02362352],\n",
       "       [0.95000347, 0.01308712, 0.02616373, 0.01074569],\n",
       "       [0.9502515 , 0.01307972, 0.02591715, 0.01075163],\n",
       "       [0.00403869, 0.01267834, 0.97473991, 0.00854307],\n",
       "       [0.01127418, 0.02315978, 0.01800096, 0.94756508],\n",
       "       [0.95012146, 0.01308428, 0.02604655, 0.01074771],\n",
       "       [0.94995406, 0.01308909, 0.02621306, 0.01074379],\n",
       "       [0.03340747, 0.01025079, 0.94090375, 0.01543799],\n",
       "       [0.9503266 , 0.01307742, 0.02584171, 0.01075428],\n",
       "       [0.95051356, 0.01307208, 0.02565571, 0.01075864],\n",
       "       [0.00776822, 0.95685654, 0.01173329, 0.02364195],\n",
       "       [0.00850839, 0.0254875 , 0.01320588, 0.95279824],\n",
       "       [0.00956714, 0.0263782 , 0.01510395, 0.94895071],\n",
       "       [0.00913037, 0.02613778, 0.01431911, 0.95041274],\n",
       "       [0.00827099, 0.9543195 , 0.01248479, 0.02492472]])"
      ]
     },
     "execution_count": 649,
     "metadata": {},
     "output_type": "execute_result"
    }
   ],
   "source": [
    "yp"
   ]
  },
  {
   "cell_type": "code",
   "execution_count": null,
   "id": "d5531eaa-39a0-4626-a76b-6097f0aba40c",
   "metadata": {},
   "outputs": [],
   "source": []
  }
 ],
 "metadata": {
  "kernelspec": {
   "display_name": "Python 3",
   "language": "python",
   "name": "python3"
  },
  "language_info": {
   "codemirror_mode": {
    "name": "ipython",
    "version": 3
   },
   "file_extension": ".py",
   "mimetype": "text/x-python",
   "name": "python",
   "nbconvert_exporter": "python",
   "pygments_lexer": "ipython3",
   "version": "3.8.8"
  }
 },
 "nbformat": 4,
 "nbformat_minor": 5
}
