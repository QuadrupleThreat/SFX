{
 "cells": [
  {
   "cell_type": "code",
   "execution_count": 172,
   "id": "2adf21d4-b2da-4e9b-bd77-b00fc4af864f",
   "metadata": {},
   "outputs": [],
   "source": [
    "import pickle\n",
    "import pandas as pd\n",
    "import numpy as np\n",
    "import matplotlib.pyplot as plt\n",
    "from sklearn import preprocessing\n",
    "from sklearn.metrics import accuracy_score\n",
    "from sklearn.linear_model import LogisticRegression\n",
    "from sklearn.model_selection import train_test_split"
   ]
  },
  {
   "cell_type": "code",
   "execution_count": 141,
   "id": "c291911a-bd10-4bdc-a05d-43402d32faf7",
   "metadata": {},
   "outputs": [],
   "source": [
    "columns = [\"wrist_x\", \"wrist_y\", \"thumb_cmc_x\", \"thumb_cmc_y\", \"thumb_mcp_x\", \"thumb_mcp_y\", \"thumb_ip_x\", \"thumb_ip_y\", \n",
    "           \"thumb_tip_x\", \"thumb_tip_y\", \"index_finger_mcp_x\", \"index_finger_mcp_y\", \"index_finger_pip_x\", \"index_finger_pip_y\",\n",
    "           \"index_finger_dip_x\", \"index_finger_dip_y\", \"index_finger_tip_x\", \"index_finger_tip_y\", \"middle_finger_mcp_x\", \"middle_finger_mcp_y\",\n",
    "           \"middle_finger_pip_x\", \"middle_finger_pip_y\", \"middle_finger_dip_x\", \"middle_finger_dip_y\", \"middle_finger_tip_x\", \"middle_finger_tip_y\",\n",
    "           \"ring_finger_mcp_x\", \"ring_finger_mcp_y\", \"ring_finger_pip_x\", \"ring_finger_pip_y\", \"ring_finger_dip_x\", \"ring_finger_dip_y\",\n",
    "           \"ring_finger_tip_x\", \"ring_finger_tip_y\", \"pinky_mcp_x\", \"pinky_mcp_y\", \"pinky_pip_x\", \"pinky_pip_y\", \"pinky_dip_x\", \"pinky_dip_y\",\n",
    "           \"pinky_tip_x\", \"pinky_tip_y\"]\n",
    "\n",
    "actual_columns = []\n",
    "for loc in [\"right_\", \"left_\"]:\n",
    "    for column in columns:\n",
    "        new_column = loc + column\n",
    "        actual_columns.append(new_column)"
   ]
  },
  {
   "cell_type": "code",
   "execution_count": 142,
   "id": "d605b116-564a-471a-aedd-37d79b36b99c",
   "metadata": {},
   "outputs": [],
   "source": [
    "hello_x = pd.read_csv(\"hello.csv\")\n",
    "welcome_x = pd.read_csv(\"welcome.csv\")\n",
    "file_paths = [\"hello.csv\", \"welcome.csv\"]\n",
    "data_frames_x = [pd.read_csv(file_path) for file_path in file_paths]"
   ]
  },
  {
   "cell_type": "code",
   "execution_count": 143,
   "id": "5ac2f31e-4ab3-441b-b03a-796ca3e0de9d",
   "metadata": {},
   "outputs": [],
   "source": [
    "hello_y = pd.Series([0 for _ in range(hello_x.shape[0])])\n",
    "welcome_y = pd.Series([1 for _ in range(welcome_x.shape[0])])\n",
    "data_series_y = [[i for _ in range(data_frames_x[i].shape[0])] for i in range(len(file_paths))]"
   ]
  },
  {
   "cell_type": "code",
   "execution_count": 156,
   "id": "fea90cc5-088a-4307-a464-b1281cbdc3e3",
   "metadata": {},
   "outputs": [],
   "source": [
    "X = pd.DataFrame()\n",
    "Y = []"
   ]
  },
  {
   "cell_type": "code",
   "execution_count": 157,
   "id": "906ca21b-f18f-433b-9d84-0b009c027c0b",
   "metadata": {},
   "outputs": [],
   "source": [
    "for i in range(200):\n",
    "    for df in data_frames_x:\n",
    "        if i < df.shape[0]:\n",
    "            X = X.append(df.iloc[i, :], ignore_index=True)\n",
    "    for df in data_series_y:\n",
    "        if i < len(df):\n",
    "            Y.append(df[i])\n",
    "Y = pd.Series(Y)"
   ]
  },
  {
   "cell_type": "code",
   "execution_count": 158,
   "id": "ccc65d65-80d9-4e21-82e1-38f725a9af55",
   "metadata": {},
   "outputs": [],
   "source": [
    "X = X.to_numpy()\n",
    "Y = Y.to_numpy()"
   ]
  },
  {
   "cell_type": "code",
   "execution_count": 164,
   "id": "90f815da-288a-4990-b5a1-76e75e73c57d",
   "metadata": {},
   "outputs": [],
   "source": [
    "min_max_scaler = preprocessing.MinMaxScaler()\n",
    "scaled_X = min_max_scaler.fit_transform(X)"
   ]
  },
  {
   "cell_type": "code",
   "execution_count": 167,
   "id": "4156a627-43eb-4461-8e06-3c7b2acda524",
   "metadata": {},
   "outputs": [],
   "source": [
    "X_train, X_test, y_train, y_test = train_test_split(scaled_X, Y, test_size=0.5, random_state=0)"
   ]
  },
  {
   "cell_type": "code",
   "execution_count": 168,
   "id": "c285ad44-074c-47eb-86f7-749db6d7647c",
   "metadata": {},
   "outputs": [
    {
     "data": {
      "text/plain": [
       "LogisticRegression()"
      ]
     },
     "execution_count": 168,
     "metadata": {},
     "output_type": "execute_result"
    }
   ],
   "source": [
    "logreg = LogisticRegression()\n",
    "logreg.fit(X_train, y_train)"
   ]
  },
  {
   "cell_type": "code",
   "execution_count": 169,
   "id": "03cbc1f2-4bd2-4e87-970b-9deb7c682ee8",
   "metadata": {},
   "outputs": [
    {
     "name": "stdout",
     "output_type": "stream",
     "text": [
      "Accuracy of logistic regression classifier on test set: 0.99\n"
     ]
    }
   ],
   "source": [
    "y_pred = logreg.predict(X_test)\n",
    "print('Accuracy of logistic regression classifier on test set: {:.2f}'.format(logreg.score(X_test, y_test)))"
   ]
  },
  {
   "cell_type": "code",
   "execution_count": 170,
   "id": "7e64141a-fb77-4ab5-ba77-140c8b971683",
   "metadata": {},
   "outputs": [
    {
     "data": {
      "text/plain": [
       "0.9850746268656716"
      ]
     },
     "execution_count": 170,
     "metadata": {},
     "output_type": "execute_result"
    }
   ],
   "source": [
    "accuracy_score(y_test, y_pred)"
   ]
  },
  {
   "cell_type": "code",
   "execution_count": 173,
   "id": "74827c35-9c58-4e82-ad8c-bab676220785",
   "metadata": {},
   "outputs": [],
   "source": [
    "file_name = 'sign_language.sav'\n",
    "pickle.dump(logreg, open(file_name, 'wb'))"
   ]
  },
  {
   "cell_type": "code",
   "execution_count": null,
   "id": "8e5b54ec-adef-47f3-bcf6-046e268cb0dd",
   "metadata": {},
   "outputs": [],
   "source": []
  }
 ],
 "metadata": {
  "kernelspec": {
   "display_name": "Python 3",
   "language": "python",
   "name": "python3"
  },
  "language_info": {
   "codemirror_mode": {
    "name": "ipython",
    "version": 3
   },
   "file_extension": ".py",
   "mimetype": "text/x-python",
   "name": "python",
   "nbconvert_exporter": "python",
   "pygments_lexer": "ipython3",
   "version": "3.8.8"
  }
 },
 "nbformat": 4,
 "nbformat_minor": 5
}
