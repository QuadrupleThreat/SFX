{
 "cells": [
  {
   "cell_type": "code",
   "execution_count": 215,
   "id": "2adf21d4-b2da-4e9b-bd77-b00fc4af864f",
   "metadata": {},
   "outputs": [],
   "source": [
    "import pickle\n",
    "import pandas as pd\n",
    "import numpy as np\n",
    "import matplotlib.pyplot as plt\n",
    "from sklearn import preprocessing\n",
    "from sklearn.metrics import accuracy_score\n",
    "from sklearn.linear_model import LogisticRegression\n",
    "from sklearn.model_selection import train_test_split"
   ]
  },
  {
   "cell_type": "code",
   "execution_count": 216,
   "id": "c291911a-bd10-4bdc-a05d-43402d32faf7",
   "metadata": {},
   "outputs": [],
   "source": [
    "columns = [\"wrist_x\", \"wrist_y\", \"thumb_cmc_x\", \"thumb_cmc_y\", \"thumb_mcp_x\", \"thumb_mcp_y\", \"thumb_ip_x\", \"thumb_ip_y\", \n",
    "           \"thumb_tip_x\", \"thumb_tip_y\", \"index_finger_mcp_x\", \"index_finger_mcp_y\", \"index_finger_pip_x\", \"index_finger_pip_y\",\n",
    "           \"index_finger_dip_x\", \"index_finger_dip_y\", \"index_finger_tip_x\", \"index_finger_tip_y\", \"middle_finger_mcp_x\", \"middle_finger_mcp_y\",\n",
    "           \"middle_finger_pip_x\", \"middle_finger_pip_y\", \"middle_finger_dip_x\", \"middle_finger_dip_y\", \"middle_finger_tip_x\", \"middle_finger_tip_y\",\n",
    "           \"ring_finger_mcp_x\", \"ring_finger_mcp_y\", \"ring_finger_pip_x\", \"ring_finger_pip_y\", \"ring_finger_dip_x\", \"ring_finger_dip_y\",\n",
    "           \"ring_finger_tip_x\", \"ring_finger_tip_y\", \"pinky_mcp_x\", \"pinky_mcp_y\", \"pinky_pip_x\", \"pinky_pip_y\", \"pinky_dip_x\", \"pinky_dip_y\",\n",
    "           \"pinky_tip_x\", \"pinky_tip_y\"]\n",
    "\n",
    "actual_columns = []\n",
    "for loc in [\"right_\", \"left_\"]:\n",
    "    for column in columns:\n",
    "        new_column = loc + column\n",
    "        actual_columns.append(new_column)"
   ]
  },
  {
   "cell_type": "code",
   "execution_count": 217,
   "id": "d605b116-564a-471a-aedd-37d79b36b99c",
   "metadata": {},
   "outputs": [],
   "source": [
    "file_paths = [\"hello.csv\", \"nice.csv\", \"meet.csv\", \"you.csv\"]\n",
    "data_frames_x = [pd.read_csv(file_path) for file_path in file_paths]"
   ]
  },
  {
   "cell_type": "code",
   "execution_count": 218,
   "id": "5ac2f31e-4ab3-441b-b03a-796ca3e0de9d",
   "metadata": {},
   "outputs": [],
   "source": [
    "data_series_y = [[i for _ in range(data_frames_x[i].shape[0])] for i in range(len(file_paths))]"
   ]
  },
  {
   "cell_type": "code",
   "execution_count": 219,
   "id": "fea90cc5-088a-4307-a464-b1281cbdc3e3",
   "metadata": {},
   "outputs": [],
   "source": [
    "X = pd.DataFrame()\n",
    "Y = []"
   ]
  },
  {
   "cell_type": "code",
   "execution_count": 220,
   "id": "906ca21b-f18f-433b-9d84-0b009c027c0b",
   "metadata": {},
   "outputs": [],
   "source": [
    "for i in range(200):\n",
    "    for df in data_frames_x:\n",
    "        if i < df.shape[0]:\n",
    "            X = X.append(df.iloc[i, :], ignore_index=True)\n",
    "    for df in data_series_y:\n",
    "        if i < len(df):\n",
    "            Y.append(df[i])\n",
    "Y = pd.Series(Y)"
   ]
  },
  {
   "cell_type": "code",
   "execution_count": 221,
   "id": "ccc65d65-80d9-4e21-82e1-38f725a9af55",
   "metadata": {},
   "outputs": [],
   "source": [
    "X = X.to_numpy()\n",
    "Y = Y.to_numpy()"
   ]
  },
  {
   "cell_type": "code",
   "execution_count": 222,
   "id": "90f815da-288a-4990-b5a1-76e75e73c57d",
   "metadata": {},
   "outputs": [],
   "source": [
    "min_max_scaler = preprocessing.StandardScaler()\n",
    "scaled_X = min_max_scaler.fit_transform(X)"
   ]
  },
  {
   "cell_type": "code",
   "execution_count": 223,
   "id": "4156a627-43eb-4461-8e06-3c7b2acda524",
   "metadata": {},
   "outputs": [],
   "source": [
    "X_train, X_test, y_train, y_test = train_test_split(scaled_X, Y, test_size=0.2, random_state=0)"
   ]
  },
  {
   "cell_type": "code",
   "execution_count": 224,
   "id": "c285ad44-074c-47eb-86f7-749db6d7647c",
   "metadata": {},
   "outputs": [
    {
     "name": "stderr",
     "output_type": "stream",
     "text": [
      "/Users/subomipopoola/opt/anaconda3/lib/python3.8/site-packages/sklearn/linear_model/_logistic.py:763: ConvergenceWarning: lbfgs failed to converge (status=1):\n",
      "STOP: TOTAL NO. of ITERATIONS REACHED LIMIT.\n",
      "\n",
      "Increase the number of iterations (max_iter) or scale the data as shown in:\n",
      "    https://scikit-learn.org/stable/modules/preprocessing.html\n",
      "Please also refer to the documentation for alternative solver options:\n",
      "    https://scikit-learn.org/stable/modules/linear_model.html#logistic-regression\n",
      "  n_iter_i = _check_optimize_result(\n"
     ]
    },
    {
     "data": {
      "text/plain": [
       "LogisticRegression()"
      ]
     },
     "execution_count": 224,
     "metadata": {},
     "output_type": "execute_result"
    }
   ],
   "source": [
    "logreg = LogisticRegression()\n",
    "logreg.fit(X_train, y_train)"
   ]
  },
  {
   "cell_type": "code",
   "execution_count": 225,
   "id": "03cbc1f2-4bd2-4e87-970b-9deb7c682ee8",
   "metadata": {},
   "outputs": [
    {
     "name": "stdout",
     "output_type": "stream",
     "text": [
      "Accuracy of logistic regression classifier on test set: 1.00\n"
     ]
    }
   ],
   "source": [
    "y_pred = logreg.predict(X_test)\n",
    "print('Accuracy of logistic regression classifier on test set: {:.2f}'.format(logreg.score(X_test, y_test)))"
   ]
  },
  {
   "cell_type": "code",
   "execution_count": 226,
   "id": "7e64141a-fb77-4ab5-ba77-140c8b971683",
   "metadata": {},
   "outputs": [
    {
     "data": {
      "text/plain": [
       "1.0"
      ]
     },
     "execution_count": 226,
     "metadata": {},
     "output_type": "execute_result"
    }
   ],
   "source": [
    "accuracy_score(y_test, y_pred)"
   ]
  },
  {
   "cell_type": "code",
   "execution_count": 227,
   "id": "74827c35-9c58-4e82-ad8c-bab676220785",
   "metadata": {},
   "outputs": [],
   "source": [
    "file_name = 'sign_language.sav'\n",
    "pickle.dump(logreg, open(file_name, 'wb'))"
   ]
  },
  {
   "cell_type": "code",
   "execution_count": 228,
   "id": "8e5b54ec-adef-47f3-bcf6-046e268cb0dd",
   "metadata": {},
   "outputs": [],
   "source": [
    "yp = logreg.predict_proba(X_test)"
   ]
  },
  {
   "cell_type": "code",
   "execution_count": 229,
   "id": "6617143e-2cba-4b4a-b266-513ceced9e8b",
   "metadata": {},
   "outputs": [
    {
     "data": {
      "text/plain": [
       "array([[9.90631911e-01, 5.66490942e-03, 2.68505109e-03, 1.01812881e-03],\n",
       "       [3.15842978e-08, 1.77354292e-03, 9.98226425e-01, 2.15152774e-10],\n",
       "       [9.89341857e-01, 2.79370066e-06, 9.21079267e-04, 9.73427004e-03],\n",
       "       [9.28335828e-04, 9.68163575e-01, 3.03140660e-02, 5.94023617e-04],\n",
       "       [3.02364599e-07, 2.14591012e-03, 9.97853785e-01, 2.18668742e-09],\n",
       "       [1.33773542e-07, 1.94496762e-03, 9.98054897e-01, 2.04133003e-09],\n",
       "       [9.64695128e-01, 3.10610055e-03, 2.68540410e-02, 5.34473022e-03],\n",
       "       [1.75058261e-03, 9.78038188e-01, 1.89398695e-02, 1.27136007e-03],\n",
       "       [9.89350946e-01, 2.71725610e-06, 8.63710679e-04, 9.78262566e-03],\n",
       "       [9.81333019e-01, 1.04657486e-04, 6.07112636e-06, 1.85562521e-02],\n",
       "       [9.99627913e-01, 2.61402425e-04, 1.66515716e-06, 1.09019621e-04],\n",
       "       [2.82229836e-17, 9.99999998e-01, 2.40936357e-09, 2.87541071e-23],\n",
       "       [1.33187520e-06, 1.18858977e-03, 9.98810072e-01, 6.14318720e-09],\n",
       "       [9.95319178e-01, 1.27352493e-06, 2.95917521e-04, 4.38363108e-03],\n",
       "       [2.90220844e-07, 1.86606148e-03, 9.98133646e-01, 2.02418798e-09],\n",
       "       [5.55438415e-05, 9.99920532e-01, 2.29373444e-05, 9.86780823e-07],\n",
       "       [1.31092694e-07, 2.16594629e-03, 9.97833921e-01, 1.81705490e-09],\n",
       "       [7.23604129e-02, 9.27274484e-01, 3.23115209e-04, 4.19874472e-05],\n",
       "       [1.41167293e-02, 6.45395031e-02, 6.54821125e-01, 2.66522642e-01],\n",
       "       [9.91678491e-01, 2.40224776e-07, 8.68159934e-04, 7.45310857e-03],\n",
       "       [5.37070830e-08, 1.20942970e-03, 9.98790516e-01, 4.24552349e-10],\n",
       "       [5.34791812e-04, 1.31502681e-04, 3.79647419e-02, 9.61368964e-01],\n",
       "       [8.12002297e-03, 3.84796105e-05, 1.22000187e-03, 9.90621496e-01],\n",
       "       [3.76171062e-04, 9.97453836e-01, 2.12979208e-03, 4.02005880e-05],\n",
       "       [8.35774781e-04, 4.78339792e-03, 3.21535642e-02, 9.62227263e-01],\n",
       "       [6.43771281e-03, 3.51405631e-05, 7.30460803e-04, 9.92796686e-01],\n",
       "       [5.04490870e-07, 1.70164209e-03, 9.98297850e-01, 3.00158585e-09],\n",
       "       [9.96997179e-01, 1.57240739e-08, 6.11899118e-04, 2.39090591e-03],\n",
       "       [9.96648142e-01, 3.45918824e-08, 9.88238546e-04, 2.36358536e-03],\n",
       "       [1.59546015e-05, 9.99977644e-01, 6.26270943e-06, 1.38290748e-07],\n",
       "       [1.25065177e-02, 2.01029184e-03, 5.62463442e-03, 9.79858556e-01],\n",
       "       [1.81815661e-03, 9.76594472e-01, 2.04451972e-02, 1.14217381e-03],\n",
       "       [2.85622715e-07, 1.08500161e-03, 9.98914711e-01, 1.61161038e-09],\n",
       "       [2.79591784e-15, 9.99999566e-01, 4.34347957e-07, 3.38490073e-21],\n",
       "       [3.03782797e-03, 4.26826618e-04, 2.38387754e-05, 9.96511507e-01],\n",
       "       [9.95515154e-01, 7.42790234e-08, 1.09994975e-03, 3.38482220e-03],\n",
       "       [7.78982396e-04, 5.63550942e-03, 4.22753909e-02, 9.51310117e-01],\n",
       "       [2.09200363e-07, 1.82693631e-03, 9.98172853e-01, 1.86112003e-09],\n",
       "       [1.33434231e-06, 1.56480052e-03, 9.98433858e-01, 6.92173962e-09],\n",
       "       [1.83080349e-03, 9.77998391e-01, 1.89726322e-02, 1.19817291e-03],\n",
       "       [9.96390156e-01, 1.08492319e-07, 1.30985505e-04, 3.47875013e-03],\n",
       "       [3.34170035e-03, 3.53533970e-04, 1.23840694e-05, 9.96292382e-01],\n",
       "       [3.23486262e-07, 1.64589764e-03, 9.98353776e-01, 2.48002188e-09],\n",
       "       [4.09578706e-06, 9.99971960e-01, 2.37539249e-05, 1.90688315e-07],\n",
       "       [9.93091964e-01, 7.49551634e-07, 1.14954376e-03, 5.75774247e-03],\n",
       "       [1.49258480e-03, 9.91807903e-01, 6.16006256e-03, 5.39449247e-04],\n",
       "       [9.89124771e-01, 3.76876887e-03, 5.16322113e-03, 1.94323900e-03],\n",
       "       [1.32036614e-07, 1.67341740e-03, 9.98326449e-01, 1.84037606e-09],\n",
       "       [1.05376229e-03, 5.12598278e-06, 2.50225647e-05, 9.98916089e-01],\n",
       "       [5.40236968e-03, 5.38065175e-03, 4.70658421e-04, 9.88746320e-01],\n",
       "       [2.13801983e-07, 1.68964403e-03, 9.98310140e-01, 1.76673290e-09],\n",
       "       [1.02579738e-02, 5.60477093e-05, 1.75865409e-03, 9.87927324e-01],\n",
       "       [3.20069599e-04, 5.54745207e-05, 3.53075650e-02, 9.64316891e-01],\n",
       "       [2.19732030e-02, 8.34295486e-02, 5.76812147e-01, 3.17785102e-01],\n",
       "       [5.79784533e-03, 8.01400595e-03, 7.76286444e-04, 9.85411862e-01],\n",
       "       [2.20528970e-07, 2.33827952e-03, 9.97661497e-01, 2.51608090e-09],\n",
       "       [1.70047612e-03, 9.78325803e-01, 1.87326630e-02, 1.24105790e-03],\n",
       "       [5.87742316e-03, 1.16590834e-03, 2.48940592e-05, 9.92931774e-01],\n",
       "       [9.68940053e-01, 6.48542451e-05, 5.76778447e-07, 3.09945156e-02],\n",
       "       [2.12092603e-09, 4.01945690e-04, 9.99598052e-01, 6.46069811e-12],\n",
       "       [9.98426774e-01, 3.33150800e-09, 4.87171355e-05, 1.52450548e-03],\n",
       "       [9.99861295e-01, 7.87496714e-06, 3.68137763e-10, 1.30829851e-04],\n",
       "       [2.16799310e-03, 5.45874349e-06, 7.11460705e-05, 9.97755402e-01],\n",
       "       [9.71619150e-01, 8.19088257e-05, 1.23289850e-06, 2.82977082e-02],\n",
       "       [9.98419989e-01, 1.06457944e-09, 1.72979629e-04, 1.40703062e-03],\n",
       "       [1.76024898e-07, 2.09642218e-03, 9.97903399e-01, 2.52328042e-09],\n",
       "       [9.92191699e-01, 2.34419316e-03, 2.72485742e-03, 2.73925084e-03],\n",
       "       [7.75489419e-09, 2.99453062e-04, 9.99700539e-01, 3.66913013e-11],\n",
       "       [1.04681434e-02, 2.95025031e-03, 5.45038854e-03, 9.81131218e-01],\n",
       "       [1.48810050e-03, 9.75004100e-01, 2.24663051e-02, 1.04149440e-03],\n",
       "       [2.22542497e-07, 2.71450825e-03, 9.97285266e-01, 2.99569141e-09],\n",
       "       [1.07619517e-03, 4.13027474e-06, 2.19226681e-05, 9.98897752e-01],\n",
       "       [7.12439245e-03, 2.30614756e-05, 6.91419765e-04, 9.92161126e-01],\n",
       "       [3.65849462e-03, 2.34390534e-03, 5.01227664e-03, 9.88985323e-01],\n",
       "       [4.81116265e-03, 4.26862104e-03, 3.65136833e-04, 9.90555079e-01],\n",
       "       [1.80684848e-07, 1.75346376e-03, 9.98246354e-01, 1.49929546e-09],\n",
       "       [1.35862810e-07, 1.34890042e-03, 9.98650962e-01, 1.37801433e-09],\n",
       "       [1.23155636e-02, 7.24883142e-05, 2.29963409e-03, 9.85312314e-01],\n",
       "       [8.40399900e-05, 9.99770994e-01, 1.33868484e-04, 1.10971743e-05],\n",
       "       [1.04013603e-04, 9.99876255e-01, 1.04000630e-05, 9.33136501e-06],\n",
       "       [9.94639380e-01, 8.57145406e-07, 1.81164465e-03, 3.54811819e-03],\n",
       "       [1.98490771e-02, 1.60106557e-03, 1.17320922e-02, 9.66817765e-01],\n",
       "       [1.13686396e-07, 1.39289567e-03, 9.98606989e-01, 1.48113624e-09],\n",
       "       [9.53941140e-03, 1.28588235e-03, 3.60110288e-03, 9.85573603e-01],\n",
       "       [1.80000827e-03, 9.77696468e-01, 1.91448387e-02, 1.35868530e-03],\n",
       "       [4.77776517e-04, 9.83176006e-05, 4.77468849e-02, 9.51677021e-01],\n",
       "       [1.08757838e-07, 1.34505118e-03, 9.98654839e-01, 1.45214475e-09],\n",
       "       [9.98336637e-01, 8.48527680e-10, 1.22231826e-04, 1.54113033e-03],\n",
       "       [1.40889271e-04, 9.64196906e-01, 3.56058665e-02, 5.63386283e-05],\n",
       "       [2.37612996e-03, 2.82507511e-03, 2.11010316e-03, 9.92688692e-01],\n",
       "       [2.55865187e-13, 9.99928559e-01, 7.14410674e-05, 1.00559815e-18]])"
      ]
     },
     "execution_count": 229,
     "metadata": {},
     "output_type": "execute_result"
    }
   ],
   "source": [
    "yp"
   ]
  },
  {
   "cell_type": "code",
   "execution_count": null,
   "id": "d5531eaa-39a0-4626-a76b-6097f0aba40c",
   "metadata": {},
   "outputs": [],
   "source": []
  }
 ],
 "metadata": {
  "kernelspec": {
   "display_name": "Python 3",
   "language": "python",
   "name": "python3"
  },
  "language_info": {
   "codemirror_mode": {
    "name": "ipython",
    "version": 3
   },
   "file_extension": ".py",
   "mimetype": "text/x-python",
   "name": "python",
   "nbconvert_exporter": "python",
   "pygments_lexer": "ipython3",
   "version": "3.8.8"
  }
 },
 "nbformat": 4,
 "nbformat_minor": 5
}
